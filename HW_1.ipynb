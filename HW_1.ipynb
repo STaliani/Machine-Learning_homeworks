{
  "cells": [
    {
      "cell_type": "markdown",
      "metadata": {
        "id": "iwFYYzGsRIaw"
      },
      "source": [
        "#Data import"
      ]
    },
    {
      "cell_type": "code",
      "execution_count": null,
      "metadata": {
        "id": "hSSihTqZklcg"
      },
      "outputs": [],
      "source": [
        "from sklearn import svm\n",
        "from sklearn import tree\n",
        "from sklearn.naive_bayes import GaussianNB\n",
        "from sklearn.linear_model import LogisticRegression\n",
        "import numpy as np"
      ]
    },
    {
      "cell_type": "code",
      "execution_count": null,
      "metadata": {
        "colab": {
          "base_uri": "https://localhost:8080/"
        },
        "id": "eIvQp712MtGp",
        "outputId": "59912e04-39cf-4e10-df34-5a38189b00c0"
      },
      "outputs": [
        {
          "output_type": "stream",
          "name": "stdout",
          "text": [
            "Mounted at /content/drive\n"
          ]
        }
      ],
      "source": [
        "#-----------IMPORT DATASET--------------#\n",
        "from google.colab import drive\n",
        "import pandas as pd\n",
        "drive.mount('/content/drive')\n",
        "dataset = pd.read_csv(\"/content/drive/My Drive/ML_hw1/dataset/train_set.tsv\", sep='\\t', header=0)"
      ]
    },
    {
      "cell_type": "markdown",
      "metadata": {
        "id": "4-BFXUm2a-0k"
      },
      "source": [
        "#Classification Task\n",
        "Since the dataset is strongly unbalanced I tried by applying oversampling.\\\\\\\n",
        "SMOTE oversampler creates new samples as by comparing with k nearest neighbour, since the resampled set does not contain copies, it is possible to treat it as the new augmented dataset.\\\\\\\n",
        "I pass the augmented dataset to gridsearch to find the best parameter for fitting, then I show evaluation results.       "
      ]
    },
    {
      "cell_type": "code",
      "execution_count": null,
      "metadata": {
        "id": "XC46lNkiOD76",
        "colab": {
          "base_uri": "https://localhost:8080/"
        },
        "outputId": "fd0eedf6-ac23-43ae-b294-069bd0a8b875"
      },
      "outputs": [
        {
          "output_type": "stream",
          "name": "stdout",
          "text": [
            "     UAV_1_track       UAV_1_x       UAV_1_y    UAV_1_vx    UAV_1_vy  \\\n",
            "0       0.027068 -62300.591721 -59305.682068    6.705684  247.671970   \n",
            "1       4.023101 -17220.612570  47439.586909 -167.653031 -138.169553   \n",
            "2       1.841994 -19900.350438  59030.833595  208.716697  -58.033328   \n",
            "3       3.621532 -48565.126583 -11986.418570 -113.516305 -218.076997   \n",
            "4       2.318417  52665.281329 -47498.516869  177.796999 -164.846698   \n",
            "..           ...           ...           ...         ...         ...   \n",
            "995     1.069408 -70156.389933  10977.295766  213.943568  117.263798   \n",
            "996     2.970409 -35222.365570  75522.014012   40.286500 -233.037428   \n",
            "997     0.819170 -20700.613915  36868.509417  178.147393  166.503507   \n",
            "998     4.394689  48588.669327 -32320.905331 -202.414834  -66.561909   \n",
            "999     1.464690 -20386.325378 -69553.280565  247.685574   26.380062   \n",
            "\n",
            "     UAV_1_target_x  UAV_1_target_y  UAV_2_track       UAV_2_x       UAV_2_y  \\\n",
            "0     -59569.480482    41566.912694     1.474570 -56681.475086  -5314.787648   \n",
            "1     -98139.258988   -19248.698541     2.614451  33573.808959  51374.559396   \n",
            "2      70435.277561    33913.163359     2.492568 -53314.291038 -15227.414024   \n",
            "3     -60503.694386   -34921.687695     4.941877  66081.722767 -13048.091807   \n",
            "4      63901.656021   -57916.461362     5.084740  -8541.183540   3543.309665   \n",
            "..              ...             ...          ...           ...           ...   \n",
            "995    10678.663954    55283.490853     0.294704  28290.108911 -26555.893531   \n",
            "996   -12303.414548   -57052.753549     3.597839  57110.637733  65088.308236   \n",
            "997    26954.346704    81408.695593     3.681918  35193.858545  46840.737615   \n",
            "998   -10903.276730   -51884.182642     5.146908  87276.023862   4491.252323   \n",
            "999    19500.117119   -65305.125048     2.982347  70204.758197  41324.296236   \n",
            "\n",
            "     ...    UAV_4_vy  UAV_4_target_x  UAV_4_target_y  UAV_5_track  \\\n",
            "0    ...   29.393295   -73393.079252    42576.874951     1.607547   \n",
            "1    ... -254.404983    54579.884869   -35144.579226     4.315806   \n",
            "2    ... -184.529893    82065.359024   -23468.668544     0.954796   \n",
            "3    ...  159.756158    60575.192521    42374.513704     4.056282   \n",
            "4    ...  -29.044969   -52711.027260    26128.828499     2.515598   \n",
            "..   ...         ...             ...             ...          ...   \n",
            "995  ...   68.394910   -60886.252559    61825.387454     1.198816   \n",
            "996  ...  202.547418    15189.112978    75698.285534     1.091081   \n",
            "997  ...   95.171377    27589.022888     7144.501408     3.775011   \n",
            "998  ...   65.955851    65774.159084    54341.126380     4.179627   \n",
            "999  ... -203.583896    36467.353721   -53455.173614     6.138084   \n",
            "\n",
            "          UAV_5_x       UAV_5_y    UAV_5_vx    UAV_5_vy  UAV_5_target_x  \\\n",
            "0   -80967.561432  37684.582412  213.175442   -7.837820    41342.567045   \n",
            "1    13285.311651 -41245.545752 -196.978758  -82.489078    -2806.112817   \n",
            "2    21679.563309 -34471.154448  208.580726  147.651921    78980.509691   \n",
            "3   -31560.842269  36234.825255 -184.415246 -141.978597   -61666.394619   \n",
            "4    18186.463747  79639.001255  133.007662 -183.966901    63306.445359   \n",
            "..            ...           ...         ...         ...             ...   \n",
            "995 -23684.569898 -32804.603209  225.945148   88.150897    85010.262644   \n",
            "996 -42271.942781   2814.146497  223.376068  116.211241    56383.580408   \n",
            "997   -514.407323 -23682.598854 -141.105001 -192.145963   -37644.313199   \n",
            "998  54002.459505  55399.199572 -189.406275 -111.680153   -39579.593108   \n",
            "999 -41554.133103 -10905.654781  -35.246805  241.204511   -51982.575221   \n",
            "\n",
            "     UAV_5_target_y  \n",
            "0      33187.606489  \n",
            "1     -47984.174724  \n",
            "2       6091.533217  \n",
            "3      13057.001319  \n",
            "4      17232.196700  \n",
            "..              ...  \n",
            "995     9601.914598  \n",
            "996    54139.612483  \n",
            "997   -74243.255506  \n",
            "998      220.151704  \n",
            "999    60459.318831  \n",
            "\n",
            "[1000 rows x 35 columns]\n"
          ]
        }
      ],
      "source": [
        "from sklearn.model_selection import train_test_split, cross_val_score, ShuffleSplit, GridSearchCV\n",
        "#Preparing dataset for classification\n",
        "X_all_class=dataset.iloc[:,:-2]\n",
        "y_all_class=dataset.iloc[:,-2]\n",
        "print(X_all_class)"
      ]
    },
    {
      "cell_type": "code",
      "execution_count": null,
      "metadata": {
        "id": "xKJq7fF_C5Z8",
        "colab": {
          "base_uri": "https://localhost:8080/",
          "height": 449
        },
        "outputId": "b41857ec-d5b5-4b8c-bd8a-228144c09586"
      },
      "outputs": [
        {
          "output_type": "display_data",
          "data": {
            "text/plain": [
              "<Figure size 640x480 with 1 Axes>"
            ],
            "image/png": "[encoded data removed]"
          },
          "metadata": {}
        }
      ],
      "source": [
        "import matplotlib.pyplot as plt\n",
        "\n",
        "def plot_classes_dict(y):\n",
        "  height = np.zeros(5)\n",
        "  bars = y.drop_duplicates().sort_values()\n",
        "  for i in bars:\n",
        "    height[i] = np.count_nonzero(y == i)\n",
        "  x_pos = np.arange(len(bars))\n",
        "  plt.bar(x_pos, height)\n",
        "\n",
        "  plt.xticks(x_pos, bars, color='black')\n",
        "  plt.yticks(color='black')\n",
        "  plt.xlabel('classes')\n",
        "  plt.ylabel('number of samples')\n",
        "\n",
        "  plt.show()\n",
        "plot_classes_dict(y_all_class)"
      ]
    },
    {
      "cell_type": "markdown",
      "metadata": {
        "id": "UfuOF9a3bBGR"
      },
      "source": [
        "##Normalizzazione"
      ]
    },
    {
      "cell_type": "code",
      "execution_count": null,
      "metadata": {
        "colab": {
          "base_uri": "https://localhost:8080/"
        },
        "id": "gaOOuD4NbNdL",
        "outputId": "3af0d331-139e-4228-ca98-d497d41c275b"
      },
      "outputs": [
        {
          "output_type": "stream",
          "name": "stdout",
          "text": [
            "[[ 0.00023933 -0.05313848 -0.04909919 ... -0.00156718  0.02507308\n",
            "   0.02094523]\n",
            " [ 0.03557181 -0.0146881   0.03927524 ... -0.01649372 -0.00170183\n",
            "  -0.03028357]\n",
            " [ 0.01628671 -0.01697374  0.04887164 ...  0.02952306  0.04789941\n",
            "   0.00384446]\n",
            " ...\n",
            " [ 0.00724301 -0.01765632  0.03052345 ... -0.03841966 -0.02283019\n",
            "  -0.0468561 ]\n",
            " [ 0.03885735  0.04144307 -0.02675848 ... -0.02233049 -0.02400389\n",
            "   0.00013894]\n",
            " [ 0.01295063 -0.01738825 -0.05758318 ...  0.04822893 -0.03152594\n",
            "   0.03815684]]\n"
          ]
        }
      ],
      "source": [
        "#Normalization\n",
        "from sklearn.preprocessing import normalize\n",
        "norm_data=normalize(X_all_class,axis=0)\n",
        "print(norm_data)"
      ]
    },
    {
      "cell_type": "code",
      "execution_count": null,
      "metadata": {
        "id": "Zg2ekvGIXecf"
      },
      "outputs": [],
      "source": [
        "#My normalization\n",
        "[n, m]=np.shape(dataset)\n",
        "print(n, m)\n",
        "x_max=0\n",
        "y_max=0\n",
        "vx_max=0\n",
        "vy_max=0\n",
        "track_max=0\n",
        "dataset.iloc[0,0]\n",
        "for i in range(0, n):\n",
        "  for j in range(0, m-2, 7):\n",
        "    if dataset.iloc[i,j]>track_max: track_max=dataset.iloc[i,j]\n",
        "    if dataset.iloc[i,j+1]>x_max: x_max=dataset.iloc[i,j+1]\n",
        "    if dataset.iloc[i,j+2]>y_max: y_max=dataset.iloc[i,j+2]\n",
        "    if dataset.iloc[i,j+3]>vx_max: vx_max=dataset.iloc[i,j+3]\n",
        "    if dataset.iloc[i,j+4]>vy_max: vy_max=dataset.iloc[i,j+4]\n",
        "    if dataset.iloc[i,j+5]>x_max: x_max=dataset.iloc[i,j+5]\n",
        "    if dataset.iloc[i,j+6]>y_max: y_max=dataset.iloc[i,j+6]\n",
        "#norm_data=np.arange(35000).reshape((1000,35))\n",
        "norm_data=np.empty([n, m-2], dtype = float)\n",
        "print(x_max, y_max, vx_max, vy_max)\n",
        "for i in range(0, n):\n",
        "  for j in range(0, m-2, 7):\n",
        "    norm_data[i,j]=dataset.iloc[i,j]/track_max\n",
        "    norm_data[i,j+1]=dataset.iloc[i,j+1]/x_max\n",
        "    norm_data[i,j+2]=dataset.iloc[i,j+2]/y_max\n",
        "    norm_data[i,j+3]=dataset.iloc[i,j+3]/vx_max\n",
        "    norm_data[i,j+4]=dataset.iloc[i,j+4]/vy_max\n",
        "    norm_data[i,j+5]=dataset.iloc[i,j+5]/x_max\n",
        "    norm_data[i,j+6]=dataset.iloc[i,j+6]/y_max\n",
        "print(norm_data)"
      ]
    },
    {
      "cell_type": "code",
      "execution_count": null,
      "metadata": {
        "id": "zLxNqlu1huw1"
      },
      "outputs": [],
      "source": [
        "#split\n",
        "X_train, X_test, y_train, y_test = train_test_split(norm_data, y_all_class, test_size=0.333, random_state=7)"
      ]
    },
    {
      "cell_type": "markdown",
      "metadata": {
        "id": "RRLNVDGLbHI5"
      },
      "source": [
        "##Oversampling"
      ]
    },
    {
      "cell_type": "code",
      "execution_count": null,
      "metadata": {
        "colab": {
          "base_uri": "https://localhost:8080/"
        },
        "id": "H1KA4JVkO6T7",
        "outputId": "e79d77d3-de1b-4475-e91d-7bd2719d6206"
      },
      "outputs": [
        {
          "output_type": "stream",
          "name": "stdout",
          "text": [
            "[(0, 538), (1, 538), (2, 538), (3, 538), (4, 538)]\n"
          ]
        }
      ],
      "source": [
        "#Random over_sampling\n",
        "from sklearn.datasets import make_classification\n",
        "from imblearn.over_sampling import RandomOverSampler\n",
        "from collections import Counter\n",
        "\n",
        "ros = RandomOverSampler(random_state=0)\n",
        "#X_resampled, y_resampled = ros.fit_resample(X_train, y_train)\n",
        "X_resampled, y_resampled = ros.fit_resample(norm_data, y_all_class)\n",
        "#Count the new number of items\n",
        "print(sorted(Counter(y_resampled).items()))\n",
        "#Now all classes contains 538 samples, the samples are just taken multiple times\n",
        "X_train, X_test, y_train, y_test = train_test_split(X_resampled, y_resampled, test_size=0.333, random_state=7)"
      ]
    },
    {
      "cell_type": "markdown",
      "metadata": {
        "id": "q8fkCd__R-FA"
      },
      "source": [
        "Since for class \"4\" there where only 3 samples maybe repeating them too much can create a problem. It is possible to use the parameter shrinkage to create a smoothed bootstrap"
      ]
    },
    {
      "cell_type": "code",
      "execution_count": null,
      "metadata": {
        "colab": {
          "base_uri": "https://localhost:8080/"
        },
        "id": "e5rH-A2eW9Gu",
        "outputId": "2767353d-8500-4c21-e3d8-9dfce65155c1"
      },
      "outputs": [
        {
          "output_type": "stream",
          "name": "stdout",
          "text": [
            "[(0, 538), (1, 538), (2, 538), (3, 538), (4, 538)]\n"
          ]
        }
      ],
      "source": [
        "from imblearn.over_sampling._smote.cluster import KMeansSMOTE\n",
        "from collections import Counter\n",
        "#Adasyn over_sampling should avoid copies problem\n",
        "from imblearn.over_sampling import SMOTE, ADASYN ,BorderlineSMOTE; KMeansSMOTE\n",
        "#X_resampled, y_resampled = SMOTE(k_neighbors=2).fit_resample(X_all_class, y_all_class)\n",
        "X_resampled, y_resampled = SMOTE(k_neighbors=2).fit_resample(norm_data, y_all_class)\n",
        "print(sorted(Counter(y_resampled).items()))\n",
        "X_train, X_test, y_train, y_test = train_test_split(X_resampled, y_resampled, test_size=0.333, random_state=7)\n",
        "#plot_classes_dict(y_resampled)"
      ]
    },
    {
      "cell_type": "code",
      "execution_count": null,
      "metadata": {
        "colab": {
          "base_uri": "https://localhost:8080/"
        },
        "id": "DUTn_sSrzZa1",
        "outputId": "f9e97676-75ef-42e3-f824-0f761eeeb525"
      },
      "outputs": [
        {
          "name": "stdout",
          "output_type": "stream",
          "text": [
            "(119, 35)\n",
            "(119, 35)\n",
            "(119, 35)\n"
          ]
        }
      ],
      "source": [
        "#manual augmentation\n",
        "from itertools import permutations\n",
        "def swap_sample(single_sample):\n",
        "  perm=permutations([0,1, 2, 3,4])\n",
        "  perm=np.array(list(perm))\n",
        "  new_samples=np.empty([np.shape(perm)[0],5,7], dtype = float)\n",
        "  out=np.empty([np.shape(perm)[0]-1,35], dtype = float)\n",
        "  for i in range(np.shape(perm)[0]):\n",
        "    for j in range(5):\n",
        "      new_samples[i,j]=np.copy(single_sample[perm[i,j]*7:(perm[i,j]+1)*7])\n",
        "  for i in range(np.shape(perm)[0]):\n",
        "    temp_var=np.asarray((new_samples[i]).reshape(-1),dtype=float)\n",
        "  return out\n",
        "y=np.array(y_all_class)\n",
        "samples_c4=np.where(y==4)[0]\n",
        "for sample in samples_c4:\n",
        "  swaps=swap_sample(norm_data[sample])\n",
        "  print(np.shape(swaps))"
      ]
    },
    {
      "cell_type": "markdown",
      "metadata": {
        "id": "GUvxFuVwb8u8"
      },
      "source": [
        "##Model choice and fit"
      ]
    },
    {
      "cell_type": "code",
      "execution_count": null,
      "metadata": {
        "id": "Jsie7kHtNr7e"
      },
      "outputs": [],
      "source": [
        "#Model choice and fit\n",
        "from sklearn.ensemble import AdaBoostClassifier\n",
        "from sklearn.svm import LinearSVC\n",
        "from sklearn.svm import SVC\n",
        "from sklearn.ensemble import RandomForestClassifier\n",
        "#model= RandomForestClassifier(max_depth=5, random_state=0, n_estimators=200) #class_weight=\"balanced\",\n",
        "model= svm.SVC(kernel='rbf', C=9)\n",
        "#model= AdaBoostClassifier(n_estimators=100, random_state=7)\n",
        "#model= LinearSVC(C=10)\n",
        "#model= GaussianNB()\n",
        "model = model.fit(X_train, y_train)\n"
      ]
    },
    {
      "cell_type": "code",
      "execution_count": null,
      "metadata": {
        "id": "Q5c0OR_3_S5A"
      },
      "outputs": [],
      "source": [
        "#grid search SvC\n",
        "from sklearn.model_selection import GridSearchCV\n",
        "from sklearn.svm import SVC\n",
        "parameters = {'kernel':['poly', 'rbf'], 'C':np.arange(1,9,1), 'degree':np.arange(1,5,1)}\n",
        "svc = svm.SVC()\n",
        "clf = GridSearchCV(svc, parameters)\n",
        "clf.fit(X_resampled, y_resampled)\n",
        "GridSearchCV(estimator=SVC(), param_grid=parameters)\n",
        "sorted(clf.cv_results_.keys())\n",
        "print(clf.cv_results_)\n",
        "print(clf.best_estimator_ ,clf.best_score_)"
      ]
    },
    {
      "cell_type": "code",
      "execution_count": null,
      "metadata": {
        "id": "kui_ycQwQmLN"
      },
      "outputs": [],
      "source": [
        "#grid search Random Forest\n",
        "from sklearn.model_selection import GridSearchCV\n",
        "from sklearn.ensemble import RandomForestClassifier\n",
        "parameters = {'max_depth':[5,10,15,20, 50, 100], 'n_estimators':[5, 10, 50, 100, 150, 200]}\n",
        "rf = RandomForestClassifier()\n",
        "clf = GridSearchCV(rf, parameters)\n",
        "clf.fit(norm_data, y_all_class)\n",
        "GridSearchCV(estimator=SVC(), param_grid=parameters)\n",
        "sorted(clf.cv_results_.keys())\n",
        "print(clf.cv_results_)\n",
        "print(clf.best_estimator_ ,clf.best_score_)"
      ]
    },
    {
      "cell_type": "markdown",
      "metadata": {
        "id": "rHy_5qjicEHI"
      },
      "source": [
        "##Evaluation"
      ]
    },
    {
      "cell_type": "code",
      "execution_count": null,
      "metadata": {
        "colab": {
          "base_uri": "https://localhost:8080/"
        },
        "id": "SYK6Y-pufVCo",
        "outputId": "1999169a-792a-4b66-f54c-23056f658026"
      },
      "outputs": [
        {
          "output_type": "stream",
          "name": "stdout",
          "text": [
            "Accuracy 0.864\n",
            "Balanced accuracy 0.868\n",
            "              precision    recall  f1-score   support\n",
            "\n",
            "           0      0.677     0.638     0.657       174\n",
            "           1      0.725     0.704     0.714       199\n",
            "           2      0.924     1.000     0.961       171\n",
            "           3      0.988     1.000     0.994       171\n",
            "           4      1.000     1.000     1.000       181\n",
            "\n",
            "    accuracy                          0.864       896\n",
            "   macro avg      0.863     0.868     0.865       896\n",
            "weighted avg      0.860     0.864     0.861       896\n",
            "\n"
          ]
        }
      ],
      "source": [
        "from sklearn.metrics import classification_report, confusion_matrix\n",
        "import matplotlib.pyplot as plt\n",
        "\n",
        "import numpy as np\n",
        "y_pred = model.predict(X_test)\n",
        "acc = model.score(X_test, y_test)\n",
        "print(\"Accuracy %.3f\" %acc)\n",
        "from sklearn.metrics import balanced_accuracy_score\n",
        "acc1=balanced_accuracy_score(y_test, y_pred)\n",
        "print(\"Balanced accuracy %.3f\" %acc1)\n",
        "class_names=np.array([\"0\",\"1\",\"2\",\"3\",\"4\"])\n",
        "print(classification_report(y_test, y_pred, labels=[0,1,2,3,4], target_names=class_names, digits=3))"
      ]
    },
    {
      "cell_type": "code",
      "execution_count": null,
      "metadata": {
        "colab": {
          "base_uri": "https://localhost:8080/",
          "height": 837
        },
        "id": "T6lXT2-hs3DY",
        "outputId": "acd3e101-2b71-4e02-ad73-c37b56d8b55d"
      },
      "outputs": [
        {
          "name": "stdout",
          "output_type": "stream",
          "text": [
            "[[106  19  42   7   0]\n",
            " [ 74  64  42  18   1]\n",
            " [  5   8 152   3   3]\n",
            " [  1   0   2 168   0]\n",
            " [  0   0   0   0 181]]\n"
          ]
        },
        {
          "data": {
            "text/plain": [
              "<matplotlib.axes._subplots.AxesSubplot at 0x7f1eb9706c10>"
            ]
          },
          "execution_count": 16,
          "metadata": {},
          "output_type": "execute_result"
        },
        {
          "data": {
            "image/png": "[encoded data removed]",
            "text/plain": [
              "<Figure size 720x720 with 2 Axes>"
            ]
          },
          "metadata": {},
          "output_type": "display_data"
        }
      ],
      "source": [
        "from sklearn.utils.multiclass import unique_labels\n",
        "def plot_confusion_matrix(y_true, y_pred, classes,\n",
        "                          normalize=False,\n",
        "                          title=None,\n",
        "                          cmap=plt.cm.Blues):\n",
        "    \"\"\"\n",
        "    This function prints and plots the confusion matrix.\n",
        "    Normalization can be applied by setting `normalize=True`.\n",
        "    \"\"\"\n",
        "    if not title:\n",
        "        if normalize:\n",
        "            title = 'Normalized confusion matrix'\n",
        "        else:\n",
        "            title = 'Confusion matrix, without normalization'\n",
        "\n",
        "    # Compute confusion matrix\n",
        "    cm = confusion_matrix(y_true, y_pred)\n",
        "    # Only use the labels that appear in the data\n",
        "    classes = classes[unique_labels(y_true, y_pred)]\n",
        "    if normalize:\n",
        "        cm = cm.astype('float') / cm.sum(axis=1)[:, np.newaxis]\n",
        "        #print(\"Normalized confusion matrix\")\n",
        "    else:\n",
        "        pass\n",
        "        #print('Confusion matrix, without normalization')\n",
        "\n",
        "    #print(cm)\n",
        "\n",
        "    fig, ax = plt.subplots()\n",
        "    im = ax.imshow(cm, interpolation='nearest', cmap=cmap)\n",
        "    ax.figure.colorbar(im, ax=ax)\n",
        "    # We want to show all ticks...\n",
        "    ax.set(xticks=np.arange(cm.shape[1]),\n",
        "           yticks=np.arange(cm.shape[0]),\n",
        "           # ... and label them with the respective list entries\n",
        "           xticklabels=classes, yticklabels=classes,\n",
        "           title=title,\n",
        "           ylabel='True label',\n",
        "           xlabel='Predicted label')\n",
        "\n",
        "    ax.set_ylim(len(classes)-0.5, -0.5)\n",
        "\n",
        "    # Rotate the tick labels and set their alignment.\n",
        "    plt.setp(ax.get_xticklabels(), rotation=45, ha=\"right\",\n",
        "             rotation_mode=\"anchor\")\n",
        "\n",
        "    # Loop over data dimensions and create text annotations.\n",
        "    fmt = '.2f' if normalize else 'd'\n",
        "    thresh = cm.max() / 2.\n",
        "    for i in range(cm.shape[0]):\n",
        "        for j in range(cm.shape[1]):\n",
        "            ax.text(j, i, format(cm[i, j], fmt),\n",
        "                    ha=\"center\", va=\"center\",\n",
        "                    color=\"white\" if cm[i, j] > thresh else \"black\")\n",
        "    fig.tight_layout()\n",
        "    return ax\n",
        "cm = confusion_matrix(y_test, y_pred, labels=None, sample_weight=None)\n",
        "print(cm)\n",
        "plt.rcParams[\"figure.figsize\"] = (10,10)\n",
        "plot_confusion_matrix(y_test, y_pred, classes=class_names, normalize=False)"
      ]
    },
    {
      "cell_type": "markdown",
      "metadata": {
        "id": "-Q_0sJJD5xw2"
      },
      "source": [
        "##K-fold cross validation"
      ]
    },
    {
      "cell_type": "code",
      "execution_count": null,
      "metadata": {
        "colab": {
          "base_uri": "https://localhost:8080/"
        },
        "id": "lRwvTDwI5wTz",
        "outputId": "067e109c-3b7d-43ce-8734-81a471f67a52"
      },
      "outputs": [
        {
          "name": "stdout",
          "output_type": "stream",
          "text": [
            "[0.72862454 0.73605948 0.74163569 0.78996283 0.75650558 0.75092937\n",
            " 0.74535316 0.73048327 0.75464684 0.78066914 0.74535316 0.78624535\n",
            " 0.76579926 0.73605948 0.79553903 0.76022305 0.77509294 0.78252788\n",
            " 0.7527881  0.76951673 0.74907063 0.79739777 0.75836431 0.7472119\n",
            " 0.73977695 0.75092937 0.77137546 0.78624535 0.74163569 0.75092937\n",
            " 0.79182156 0.78624535 0.76951673 0.76208178 0.76765799 0.79182156\n",
            " 0.7527881  0.74349442 0.7472119  0.78252788 0.80855019 0.75092937\n",
            " 0.73234201 0.78438662 0.74535316 0.72304833 0.76394052 0.76022305\n",
            " 0.73420074 0.7527881  0.74535316 0.79182156 0.77509294 0.77137546\n",
            " 0.7732342  0.77509294 0.76208178 0.76394052 0.74163569 0.76022305\n",
            " 0.76765799 0.7527881  0.7732342  0.79182156 0.76579926 0.75464684\n",
            " 0.70817844 0.76208178 0.77137546 0.77881041 0.76765799 0.74907063\n",
            " 0.77509294 0.77509294 0.78252788 0.76394052 0.7267658  0.77881041\n",
            " 0.77137546 0.78624535 0.78066914 0.7527881  0.75836431 0.78438662\n",
            " 0.75092937 0.76579926 0.73977695 0.73977695 0.78438662 0.78066914\n",
            " 0.79182156 0.73791822 0.73234201 0.78624535 0.7732342  0.74907063\n",
            " 0.74535316 0.7527881  0.75464684 0.7936803 ]\n",
            "Accuracy: 0.762 (+/- 0.04)\n"
          ]
        }
      ],
      "source": [
        "#K-Fold Cross Validation\n",
        "from sklearn.ensemble import RandomForestClassifier\n",
        "model = RandomForestClassifier(max_depth=5, random_state=0)\n",
        "cv = ShuffleSplit(n_splits=100, test_size=0.2)\n",
        "scores = cross_val_score(model, X_resampled, y_resampled, cv=cv)\n",
        "print(scores)\n",
        "print(\"Accuracy: %0.3f (+/- %0.2f)\" % (scores.mean(), scores.std() * 2))"
      ]
    },
    {
      "cell_type": "markdown",
      "metadata": {
        "id": "-ZQoYqFXBAz-"
      },
      "source": [
        "#Regression task\n"
      ]
    },
    {
      "cell_type": "code",
      "execution_count": null,
      "metadata": {
        "id": "USY5OpO3CWsi"
      },
      "outputs": [],
      "source": [
        "import matplotlib.pyplot as plt\n",
        "import numpy as np\n",
        "from sklearn import datasets, linear_model\n",
        "from sklearn.metrics import mean_squared_error, r2_score, mean_absolute_error\n",
        "from sklearn.svm import SVR\n",
        "from sklearn.model_selection import train_test_split, cross_val_score, ShuffleSplit, GridSearchCV\n",
        "import statistics as st\n",
        "import seaborn"
      ]
    },
    {
      "cell_type": "code",
      "execution_count": null,
      "metadata": {
        "id": "uM_A-VfTA-Ay"
      },
      "outputs": [],
      "source": [
        "X_all_regr=dataset.iloc[:,:-2]\n",
        "y_all_regr=dataset.iloc[:,-1]\n",
        "regr_data=pd.concat([X_all_regr, y_all_regr], axis=1)\n",
        "#X_all_regr['UAV_1_track'][0]\n",
        "z=np.array(X_all_regr.iloc[:,:])\n",
        "#print(regr_data.columns)"
      ]
    },
    {
      "cell_type": "code",
      "source": [
        "X_train_regr, X_test_regr, y_train_regr, y_test_regr = train_test_split(X_all_regr, y_all_regr, test_size=0.33, random_state=42)"
      ],
      "metadata": {
        "id": "rx05F6NcaUf5"
      },
      "execution_count": null,
      "outputs": []
    },
    {
      "cell_type": "markdown",
      "metadata": {
        "id": "9JdOwSBrtO02"
      },
      "source": [
        "##Normalization"
      ]
    },
    {
      "cell_type": "code",
      "execution_count": null,
      "metadata": {
        "id": "KGGOYqTPtKJy"
      },
      "outputs": [],
      "source": [
        "#normalizzation all even the output\n",
        "from sklearn.preprocessing import normalize\n",
        "col=regr_data.columns\n",
        "ind=regr_data.index\n",
        "norm_data=normalize(regr_data,axis=0)\n",
        "norm_data=pd.DataFrame(norm_data, columns=col)\n",
        "print(norm_data)"
      ]
    },
    {
      "cell_type": "code",
      "source": [
        "#normalize only the input\n",
        "from sklearn.preprocessing import normalize\n",
        "col=regr_data.columns\n",
        "ind=regr_data.index\n",
        "norm_data=normalize(regr_data.iloc[:,:-1],axis=0)\n",
        "print(np.shape(norm_data))\n",
        "y=np.array(regr_data.iloc[:,-1]).reshape(1000,1)\n",
        "print(np.shape(y))\n",
        "norm_data=np.concatenate((norm_data,y),axis=1)\n",
        "norm_data=pd.DataFrame(norm_data, columns=col)\n",
        "print(norm_data)"
      ],
      "metadata": {
        "id": "DVA88OzgFoBu"
      },
      "execution_count": null,
      "outputs": []
    },
    {
      "cell_type": "code",
      "source": [
        "X_train_regr, X_test_regr, y_train_regr, y_test_regr = train_test_split(norm_data.iloc[:,:-1], norm_data.iloc[:,-1], test_size=0.33, random_state=7)"
      ],
      "metadata": {
        "id": "pLIkwjm7axE_"
      },
      "execution_count": null,
      "outputs": []
    },
    {
      "cell_type": "markdown",
      "metadata": {
        "id": "ozAjt9_DjzeR"
      },
      "source": [
        "##Kernel\n"
      ]
    },
    {
      "cell_type": "code",
      "execution_count": null,
      "metadata": {
        "id": "3GZVQFQBj3dv"
      },
      "outputs": [],
      "source": [
        "#kernel\n",
        "def k(u,v):\n",
        "  v1 = st.variance(u)\n",
        "  v2 = st.variance(v)\n",
        "  d = np.abs(v1-v2)\n",
        "  #return 1.0/(d+1)**2\n",
        "  return d**2\n",
        "\n",
        "def my_kernel(U, V):\n",
        "  N = len(U)\n",
        "  M = len(V)\n",
        "  K = np.empty((N,M), dtype=float)\n",
        "  for i in range(0,N):\n",
        "    for j in range(i+1,M):\n",
        "      K[i][j] = k(U[i],V[j])\n",
        "  return K\n",
        "\n",
        "#K = my_kernel(norm_data,norm_data)\n"
      ]
    },
    {
      "cell_type": "markdown",
      "metadata": {
        "id": "LCnnued2mb3L"
      },
      "source": [
        "##Oversample"
      ]
    },
    {
      "cell_type": "code",
      "execution_count": null,
      "metadata": {
        "colab": {
          "base_uri": "https://localhost:8080/"
        },
        "id": "t2fK_rvRocL0",
        "outputId": "f9170571-f9b8-4d41-9461-0382301c6ef8"
      },
      "outputs": [
        {
          "output_type": "stream",
          "name": "stdout",
          "text": [
            "Looking in indexes: https://pypi.org/simple, https://us-python.pkg.dev/colab-wheels/public/simple/\n",
            "Requirement already satisfied: smogn in /usr/local/lib/python3.8/dist-packages (0.1.2)\n",
            "Requirement already satisfied: pandas in /usr/local/lib/python3.8/dist-packages (from smogn) (1.3.5)\n",
            "Requirement already satisfied: numpy in /usr/local/lib/python3.8/dist-packages (from smogn) (1.21.6)\n",
            "Requirement already satisfied: tqdm in /usr/local/lib/python3.8/dist-packages (from smogn) (4.64.1)\n",
            "Requirement already satisfied: pytz>=2017.3 in /usr/local/lib/python3.8/dist-packages (from pandas->smogn) (2022.6)\n",
            "Requirement already satisfied: python-dateutil>=2.7.3 in /usr/local/lib/python3.8/dist-packages (from pandas->smogn) (2.8.2)\n",
            "Requirement already satisfied: six>=1.5 in /usr/local/lib/python3.8/dist-packages (from python-dateutil>=2.7.3->pandas->smogn) (1.15.0)\n"
          ]
        }
      ],
      "source": [
        "!pip install smogn\n",
        "import smogn"
      ]
    },
    {
      "cell_type": "code",
      "execution_count": null,
      "metadata": {
        "colab": {
          "base_uri": "https://localhost:8080/",
          "height": 433
        },
        "id": "x-dwK9wxzMOL",
        "outputId": "3433ea1e-536c-4a1d-f608-485f591b072a"
      },
      "outputs": [
        {
          "output_type": "stream",
          "name": "stderr",
          "text": [
            "dist_matrix: 100%|##########| 151/151 [00:50<00:00,  3.01it/s]\n",
            "synth_matrix: 100%|##########| 151/151 [00:06<00:00, 24.42it/s]\n",
            "r_index: 100%|##########| 47/47 [00:00<00:00, 73.59it/s]\n"
          ]
        },
        {
          "output_type": "stream",
          "name": "stdout",
          "text": [
            "[  194.15450043  4948.76425215 10374.39594476 19059.34303755\n",
            " 39589.24229714]\n",
            "[  194.15450043 11655.78470431 26464.83017    33607.26842202\n",
            " 57961.96435543]\n"
          ]
        },
        {
          "output_type": "execute_result",
          "data": {
            "text/plain": [
              "<matplotlib.legend.Legend at 0x7efe1c9c1be0>"
            ]
          },
          "metadata": {},
          "execution_count": 24
        },
        {
          "output_type": "display_data",
          "data": {
            "text/plain": [
              "<Figure size 432x288 with 1 Axes>"
            ],
            "image/png": "[encoded data removed]"
          },
          "metadata": {
            "needs_background": "light"
          }
        }
      ],
      "source": [
        "#Smogn oversample\n",
        "resampled_data=smogn.smoter(regr_data, y=\"min_CPA\")\n",
        "#print (resampled_data)\n",
        "X_train_regr, X_test_regr, y_train_regr, y_test_regr = train_test_split(resampled_data.iloc[:,:-1], resampled_data.iloc[:,-1], test_size=0.33, random_state=7)\n",
        "print(smogn.box_plot_stats(regr_data['min_CPA'])['stats'])\n",
        "print(smogn.box_plot_stats(resampled_data['min_CPA'])['stats'])\n",
        "seaborn.kdeplot(regr_data['min_CPA'], label = \"Original\")\n",
        "seaborn.kdeplot(np.array(resampled_data['min_CPA']), label = \"Modified\")\n",
        "plt.legend()"
      ]
    },
    {
      "cell_type": "code",
      "execution_count": null,
      "metadata": {
        "id": "dhi2Yrip7Xnh"
      },
      "outputs": [],
      "source": [
        "## specify phi relevance values\n",
        "matrix = [\n",
        "\n",
        "    [0,     0, 0],  ## over-sample (\"minority\")\n",
        "    [10000, 0, 0],  ## under-sample (\"majority\")\n",
        "    [20000, 0, 0],  ## under-sample\n",
        "    [40000, 0, 0],\n",
        "    [50000, 1, 0],  ## under-sample\n",
        "]\n",
        "resampled_data = smogn.smoter(\n",
        "\n",
        "    ## main arguments\n",
        "    data = regr_data,           ## pandas dataframe\n",
        "    y = 'min_CPA',          ## string ('header name')\n",
        "    k = 3,                    ## positive integer (k < n)\n",
        "    pert = 0.02,              ## real number (0 < R < 1)\n",
        "    samp_method = 'balance',  ## string ('balance' or 'extreme')\n",
        "    replace = False,          ## boolean (True or False)\n",
        "\n",
        "    ## phi relevance arguments\n",
        "    rel_thres = 0.10,         ## real number (0 < R < 1)\n",
        "    rel_method = 'manual',    ## string ('auto' or 'manual')\n",
        "    # rel_xtrm_type = 'both', ## unused (rel_method = 'manual')\n",
        "    # rel_coef = 1.50,        ## unused (rel_method = 'manual')\n",
        "    rel_ctrl_pts_rg = matrix ## 2d array (format: [x, y])\n",
        "    )\n",
        "X_train_regr, X_test_regr, y_train_regr, y_test_regr = train_test_split(resampled_data.iloc[:,:-1], resampled_data.iloc[:,-1], test_size=0.33, random_state=7)\n",
        "print(smogn.box_plot_stats(regr_data['min_CPA'])['stats'])\n",
        "print(smogn.box_plot_stats(resampled_data['min_CPA'])['stats'])\n",
        "seaborn.kdeplot(regr_data['min_CPA'], label = \"Original\")\n",
        "seaborn.kdeplot(np.array(resampled_data['min_CPA']), label = \"Modified\")\n",
        "plt.legend()"
      ]
    },
    {
      "cell_type": "code",
      "execution_count": null,
      "metadata": {
        "colab": {
          "base_uri": "https://localhost:8080/",
          "height": 362
        },
        "id": "MUFeLqCROyhs",
        "outputId": "668c5930-128f-4026-a86b-612d49d636d3"
      },
      "outputs": [
        {
          "output_type": "stream",
          "name": "stderr",
          "text": [
            "dist_matrix: 100%|##########| 35/35 [00:02<00:00, 12.25it/s]\n",
            "synth_matrix: 100%|##########| 35/35 [00:12<00:00,  2.74it/s]\n",
            "r_index: 100%|##########| 21/21 [00:00<00:00, 77.70it/s]\n"
          ]
        },
        {
          "output_type": "execute_result",
          "data": {
            "text/plain": [
              "<matplotlib.legend.Legend at 0x7f06d778f880>"
            ]
          },
          "metadata": {},
          "execution_count": 8
        },
        {
          "output_type": "display_data",
          "data": {
            "text/plain": [
              "<Figure size 432x288 with 1 Axes>"
            ],
            "image/png": "[encoded data removed]"
          },
          "metadata": {
            "needs_background": "light"
          }
        }
      ],
      "source": [
        "from pandas.core.accessor import register_dataframe_accessor\n",
        "resampled_data = smogn.smoter(\n",
        "\n",
        "    ## main arguments\n",
        "    data = regr_data,           ## pandas dataframe\n",
        "    y = 'min_CPA',          ## string ('header name')\n",
        "    k = 9,                    ## positive integer (k < n)\n",
        "    samp_method = 'extreme',  ## string ('balance' or 'extreme')\n",
        "\n",
        "    ## phi relevance arguments\n",
        "    rel_thres = 0.80,         ## positive real number (0 < R < 1)\n",
        "    rel_method = 'auto',      ## string ('auto' or 'manual')\n",
        "    rel_xtrm_type = 'high',   ## string ('low' or 'both' or 'high')\n",
        "    rel_coef = 2.25           ## positive real number (0 < R)\n",
        ")\n",
        "X_train_regr, X_test_regr, y_train_regr, y_test_regr = train_test_split(resampled_data.iloc[:,:-1], resampled_data.iloc[:,-1], test_size=0.33, random_state=7)\n",
        "#print(smogn.box_plot_stats(register_dataframe_accessor['min_CPA'])['stats'])\n",
        "#print(smogn.box_plot_stats(resampled_data['min_CPA'])['stats'])\n",
        "seaborn.kdeplot(regr_data['min_CPA'], label = \"Original\")\n",
        "seaborn.kdeplot(np.array(resampled_data['min_CPA']), label = \"Modified\")\n",
        "plt.legend()"
      ]
    },
    {
      "cell_type": "code",
      "execution_count": null,
      "metadata": {
        "colab": {
          "base_uri": "https://localhost:8080/"
        },
        "id": "-b0haHua9kbf",
        "outputId": "a518ce73-f79d-4402-eff3-f1c810be623d"
      },
      "outputs": [
        {
          "name": "stdout",
          "output_type": "stream",
          "text": [
            "(1931, 36)\n"
          ]
        }
      ],
      "source": [
        "print(np.shape(resampled_data))"
      ]
    },
    {
      "cell_type": "markdown",
      "metadata": {
        "id": "SGA38vpxmkBJ"
      },
      "source": [
        "##Moldel choice and fit"
      ]
    },
    {
      "cell_type": "code",
      "execution_count": null,
      "metadata": {
        "colab": {
          "base_uri": "https://localhost:8080/"
        },
        "id": "p4g-id_FQsUo",
        "outputId": "49b1e058-3e42-42c8-f868-08ce3b9beb50"
      },
      "outputs": [
        {
          "output_type": "stream",
          "name": "stdout",
          "text": [
            "Root mean squared error: 7947.39\n",
            "Mean absolute error: 6097.58\n",
            "Regression score: 0.82\n"
          ]
        }
      ],
      "source": [
        "from sklearn.ensemble import AdaBoostRegressor\n",
        "from sklearn.tree import DecisionTreeRegressor\n",
        "\n",
        "regr_1 = DecisionTreeRegressor(max_depth=3)\n",
        "\n",
        "regr_2 = AdaBoostRegressor(\n",
        "    DecisionTreeRegressor(max_depth=5), n_estimators=100, random_state=0)\n",
        "\n",
        "regr_1.fit(X_train_regr, y_train_regr)\n",
        "regr_2.fit(X_train_regr, y_train_regr)\n",
        "\n",
        "y_1 = regr_1.predict(X_test_regr)\n",
        "y_2 = regr_2.predict(X_test_regr)\n",
        "# The mean squared error\n",
        "print(\"Root mean squared error: %.2f\"\n",
        "      % mean_squared_error(y_test_regr, y_2,squared=False))\n",
        "# The mean absolute error\n",
        "print(\"Mean absolute error: %.2f\"\n",
        "      % mean_absolute_error(y_test_regr, y_2))\n",
        "\n",
        "# R2 regression score: 1 is perfect prediction\n",
        "print('Regression score: %.2f' % r2_score(y_test_regr, y_2))"
      ]
    },
    {
      "cell_type": "code",
      "execution_count": null,
      "metadata": {
        "colab": {
          "base_uri": "https://localhost:8080/"
        },
        "id": "ELcC7_1Z2Z9J",
        "outputId": "30d1a5c1-3296-4b7c-a5c1-c8307b10f2fa"
      },
      "outputs": [
        {
          "output_type": "stream",
          "name": "stdout",
          "text": [
            "Root mean squared error: 12064.52\n",
            "Mean absolute error: 9447.54\n",
            "Regression score: 0.28\n"
          ]
        }
      ],
      "source": [
        "# The root mean squared error\n",
        "print(\"Root mean squared error: %.2f\"\n",
        "      % mean_squared_error(y_test_regr, y_1,squared=False))\n",
        "# The mean absolute error\n",
        "print(\"Mean absolute error: %.2f\"\n",
        "      % mean_absolute_error(y_test_regr, y_1))\n",
        "# R2 regression score: 1 is perfect prediction\n",
        "print('Regression score: %.2f' % r2_score(y_test_regr, y_1))"
      ]
    },
    {
      "cell_type": "code",
      "execution_count": null,
      "metadata": {
        "colab": {
          "base_uri": "https://localhost:8080/"
        },
        "id": "7zy8xzAuDC1s",
        "outputId": "2f2b2a56-fac5-491a-f3ee-e9bdede21daf"
      },
      "outputs": [
        {
          "output_type": "execute_result",
          "data": {
            "text/plain": [
              "KNeighborsRegressor(n_neighbors=3, p=1, weights='distance')"
            ]
          },
          "metadata": {},
          "execution_count": 33
        }
      ],
      "source": [
        "from sklearn.neighbors import KNeighborsRegressor\n",
        "from sklearn.kernel_ridge import KernelRidge\n",
        "from sklearn.ensemble import GradientBoostingRegressor\n",
        "#model = GradientBoostingRegressor(n_estimators=100, learning_rate=0.3, max_depth=200, random_state=5)\n",
        "#model = KNeighborsRegressor(n_neighbors=3, algorithm=\"auto\")\n",
        "model = KNeighborsRegressor(metric= 'minkowski', n_neighbors= 3, p= 1, weights='distance')\n",
        "#model =  KernelRidge(alpha=1.0)\n",
        "#model = SVR(kernel='poly', C=10, degree=5, gamma='scale')\n",
        "#model = SVR(kernel='linear', C=10)\n",
        "#model = SVR(kernel=my_kernel)   ##########  MY KERNEL  #################\n",
        "#model = linear_model.LinearRegression()\n",
        "# Train the model using the training sets\n",
        "model.fit(X_train_regr, y_train_regr)\n"
      ]
    },
    {
      "cell_type": "code",
      "execution_count": null,
      "metadata": {
        "colab": {
          "base_uri": "https://localhost:8080/"
        },
        "id": "5qx2DYYZJBm7",
        "outputId": "3c159703-c646-45ba-b451-d8ccb8d25fb5"
      },
      "outputs": [
        {
          "output_type": "stream",
          "name": "stdout",
          "text": [
            "Root mean squared error: 12076.47\n",
            "Mean absolute error: 8042.31\n",
            "Regression score: 0.28\n"
          ]
        }
      ],
      "source": [
        "# Make predictions using the testing set\n",
        "y_pred_regr = model.predict(X_test_regr)\n",
        "\n",
        "# The root mean squared error\n",
        "print(\"Root mean squared error: %.2f\"\n",
        "      % mean_squared_error(y_test_regr, y_pred_regr, squared=False))\n",
        "# The mean absolute error\n",
        "print(\"Mean absolute error: %.2f\"\n",
        "      % mean_absolute_error(y_test_regr, y_pred_regr))\n",
        "\n",
        "# R2 regression score: 1 is perfect prediction\n",
        "print('Regression score: %.2f' % r2_score(y_test_regr, y_pred_regr))"
      ]
    },
    {
      "cell_type": "markdown",
      "metadata": {
        "id": "eslSgSq3mqTc"
      },
      "source": [
        "##Gridsearch to fine tune"
      ]
    },
    {
      "cell_type": "code",
      "execution_count": null,
      "metadata": {
        "colab": {
          "base_uri": "https://localhost:8080/"
        },
        "id": "tNnKGqZiF2V1",
        "outputId": "29c1f6ca-07a0-4844-8835-715ded434395"
      },
      "outputs": [
        {
          "output_type": "stream",
          "name": "stdout",
          "text": [
            "\n",
            "\n",
            "Grid Search for Regression\n",
            "\n",
            "\n",
            "Fitting 5 folds for each of 160 candidates, totalling 800 fits\n",
            "GridSearchCV(cv=5,\n",
            "             estimator=KNeighborsRegressor(n_neighbors=17, weights='distance'),\n",
            "             n_jobs=-1,\n",
            "             param_grid={'metric': ('chebyshev', 'minkowski'),\n",
            "                         'n_neighbors': [1, 3, 5, 7, 9, 11, 23, 35, 47, 59],\n",
            "                         'p': array([1, 2, 3, 4]),\n",
            "                         'weights': ('uniform', 'distance')},\n",
            "             scoring='r2', verbose=1)\n"
          ]
        }
      ],
      "source": [
        "grid_search_regression = GridSearchCV(model,\n",
        "                           {\n",
        "                            'n_neighbors':[1,3,5,7,9,11,23,35,47,59],\n",
        "                            'weights': ('uniform', 'distance'),\n",
        "                            'p': np.arange(1,5),\n",
        "                            'metric': ('chebyshev', 'minkowski')\n",
        "                            },cv=5, scoring=\"r2\",verbose=1,n_jobs=-1\n",
        "                           )\n",
        "print(\"\\n\\nGrid Search for Regression\\n\\n\")\n",
        "print(grid_search_regression.fit(X_train_regr,y_train_regr))\n"
      ]
    },
    {
      "cell_type": "code",
      "execution_count": null,
      "metadata": {
        "colab": {
          "base_uri": "https://localhost:8080/"
        },
        "id": "H0fa9BE7Q2jg",
        "outputId": "9f3ec901-4225-4017-a7fd-a973fd308071"
      },
      "outputs": [
        {
          "output_type": "stream",
          "name": "stdout",
          "text": [
            "\n",
            "\n",
            "Grid Search for Regression\n",
            "\n",
            "\n",
            "Fitting 5 folds for each of 84 candidates, totalling 420 fits\n",
            "GridSearchCV(cv=5, estimator=SVR(C=10, degree=5, kernel='poly'), n_jobs=-1,\n",
            "             param_grid={'C': array([ 1,  3,  5,  7,  9, 11, 13]),\n",
            "                         'degree': array([1, 2, 3, 4, 5, 6]),\n",
            "                         'kernel': ('rbf', 'poly')},\n",
            "             scoring='r2', verbose=1)\n"
          ]
        }
      ],
      "source": [
        "grid_search_regression = GridSearchCV(model,\n",
        "                           {\n",
        "                            'C':np.arange(1,15,2),\n",
        "                            'kernel': ('rbf','poly'),\n",
        "                            'degree': np.arange(1,7,1),\n",
        "                            },cv=5, scoring=\"r2\",verbose=1,n_jobs=-1\n",
        "                           )\n",
        "print(\"\\n\\nGrid Search for Regression\\n\\n\")\n",
        "print(grid_search_regression.fit(X_train_regr,y_train_regr))"
      ]
    },
    {
      "cell_type": "code",
      "execution_count": null,
      "metadata": {
        "colab": {
          "base_uri": "https://localhost:8080/"
        },
        "id": "-c3LIjnGIpBU",
        "outputId": "e9b377db-acb3-481f-92a0-4326ff46c731"
      },
      "outputs": [
        {
          "output_type": "stream",
          "name": "stdout",
          "text": [
            "{'metric': 'minkowski', 'n_neighbors': 3, 'p': 1, 'weights': 'distance'}\n",
            "0.29570552165974384\n"
          ]
        }
      ],
      "source": [
        "print(grid_search_regression.best_params_)\n",
        "print(grid_search_regression.best_score_)"
      ]
    },
    {
      "cell_type": "code",
      "source": [
        "# Make predictions using the testing set\n",
        "y_pred_regr = grid_search_regression.predict(X_test_regr)\n",
        "\n",
        "# The root mean squared error\n",
        "print(\"Mean squared error: %.2f\"\n",
        "      % mean_squared_error(y_test_regr, y_pred_regr, squared=False))\n",
        "# The mean absolute error\n",
        "print(\"Mean absolute error: %.2f\"\n",
        "      % mean_absolute_error(y_test_regr, y_pred_regr))\n",
        "\n",
        "# R2 regression score: 1 is perfect prediction\n",
        "print('Regression score: %.2f' % r2_score(y_test_regr, y_pred_regr))"
      ],
      "metadata": {
        "colab": {
          "base_uri": "https://localhost:8080/"
        },
        "id": "_QnSYeZmfFrw",
        "outputId": "ac42d7db-9845-4312-f889-378e30d89f1f"
      },
      "execution_count": null,
      "outputs": [
        {
          "output_type": "stream",
          "name": "stdout",
          "text": [
            "Mean squared error: 12076.47\n",
            "Mean absolute error: 8042.31\n",
            "Regression score: 0.28\n"
          ]
        }
      ]
    }
  ],
  "metadata": {
    "colab": {
      "provenance": [],
      "collapsed_sections": [
        "iwFYYzGsRIaw",
        "4-BFXUm2a-0k",
        "GUvxFuVwb8u8",
        "rHy_5qjicEHI",
        "-Q_0sJJD5xw2",
        "9JdOwSBrtO02",
        "ozAjt9_DjzeR",
        "LCnnued2mb3L",
        "eslSgSq3mqTc"
      ]
    },
    "gpuClass": "standard",
    "kernelspec": {
      "display_name": "Python 3",
      "name": "python3"
    },
    "language_info": {
      "name": "python"
    }
  },
  "nbformat": 4,
  "nbformat_minor": 0
}